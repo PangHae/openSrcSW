{
 "cells": [
  {
   "cell_type": "code",
   "execution_count": 11,
   "id": "2b7e6ffb",
   "metadata": {},
   "outputs": [
    {
     "name": "stdout",
     "output_type": "stream",
     "text": [
      "파일 이름을 입력하세요:input1.txt input2.txt\n"
     ]
    }
   ],
   "source": [
    "fileName1, fileName2 = input(\"파일 이름을 입력하세요:\").split()\n",
    "fileOne = open(\"./\"+fileName1, \"r\")\n",
    "fileTwo = open(\"./\"+fileName2, \"w\")\n",
    "body = fileOne.readlines()\n",
    "for line in body:\n",
    "    fileTwo.write(line)\n",
    "fileOne.close()\n",
    "fileTwo.close()"
   ]
  },
  {
   "cell_type": "code",
   "execution_count": 10,
   "id": "e62bb4ad",
   "metadata": {},
   "outputs": [
    {
     "name": "stdout",
     "output_type": "stream",
     "text": [
      "파일 이름을 입력하세요:input1.txt\n",
      "5\n",
      "12\n"
     ]
    }
   ],
   "source": [
    "fileName = input(\"파일 이름을 입력하세요:\")\n",
    "file = open(\"./\"+fileName, \"r\")\n",
    "lineCount = 0\n",
    "lineLength = 0\n",
    "\n",
    "for line in file:\n",
    "    lineCount+=1\n",
    "    lineLength += len(line.split(\" \"))\n",
    "    \n",
    "print(lineCount)\n",
    "print(lineLength - 1)"
   ]
  },
  {
   "cell_type": "code",
   "execution_count": 19,
   "id": "7aef8d9d",
   "metadata": {},
   "outputs": [
    {
     "name": "stdout",
     "output_type": "stream",
     "text": [
      "1 + 2 = 3 입니다.\n",
      "5 - 1 = 4 입니다.\n",
      "2 * 3 = 6 입니다.\n",
      "6 / 2 = 3 입니다.\n"
     ]
    }
   ],
   "source": [
    "class Calc:\n",
    "    def sum(self, a,b):\n",
    "        result = a + b\n",
    "        print(\"{0} + {1} = {2} 입니다.\".format(a ,b, result))\n",
    "    \n",
    "    def sub(self, a, b):\n",
    "        result = a - b\n",
    "        print(\"{0} - {1} = {2} 입니다.\".format(a ,b, result))\n",
    "    def multi(self, a, b):\n",
    "        result = a * b\n",
    "        print(\"{0} * {1} = {2} 입니다.\".format(a ,b, result))\n",
    "    def div(self, a, b):\n",
    "        result = int(a / b)\n",
    "        print(\"{0} / {1} = {2} 입니다.\".format(a ,b, result))\n",
    "\n",
    "calc = Calc()\n",
    "calc.sum(1, 2)\n",
    "calc.sub(5, 1)\n",
    "calc.multi(2, 3)\n",
    "calc.div(6, 2)"
   ]
  },
  {
   "cell_type": "code",
   "execution_count": 18,
   "id": "7e9ea88d",
   "metadata": {},
   "outputs": [
    {
     "name": "stdout",
     "output_type": "stream",
     "text": [
      "1 + 2 = 3 입니다.\n",
      "5 - 1 = 4 입니다.\n",
      "2 * 3 = 6 입니다.\n",
      "6 / 2 = 3 입니다.\n"
     ]
    }
   ],
   "source": [
    "class Stack:\n",
    "        \n",
    "    def add(self,stk,word):\n",
    "        stk.append(word)\n",
    "        \n",
    "    def pop(self, stk):\n",
    "        getPop = stk[-1]\n",
    "        del stk[-1]\n",
    "        \n",
    "        return getPop\n",
    "    "
   ]
  },
  {
   "cell_type": "code",
   "execution_count": null,
   "id": "57bd8e5e",
   "metadata": {},
   "outputs": [],
   "source": []
  }
 ],
 "metadata": {
  "kernelspec": {
   "display_name": "Python 3",
   "language": "python",
   "name": "python3"
  },
  "language_info": {
   "codemirror_mode": {
    "name": "ipython",
    "version": 3
   },
   "file_extension": ".py",
   "mimetype": "text/x-python",
   "name": "python",
   "nbconvert_exporter": "python",
   "pygments_lexer": "ipython3",
   "version": "3.8.5"
  }
 },
 "nbformat": 4,
 "nbformat_minor": 5
}
