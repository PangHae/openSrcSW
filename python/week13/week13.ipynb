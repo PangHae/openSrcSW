{
 "cells": [
  {
   "cell_type": "code",
   "execution_count": 6,
   "metadata": {
    "scrolled": true
   },
   "outputs": [
    {
     "data": {
      "image/png": "[encoded data removed]",
      "text/plain": [
       "<Figure size 432x288 with 1 Axes>"
      ]
     },
     "metadata": {
      "needs_background": "light"
     },
     "output_type": "display_data"
    }
   ],
   "source": [
    "import csv\n",
    "from matplotlib import pyplot as plt\n",
    "import numpy as np\n",
    "\n",
    "file = open(\"./temperature.csv\", \"r\", encoding=\"cp949\")\n",
    "data = csv.reader(file)\n",
    "next(data)\n",
    "myBirth = {}\n",
    "highTmp = []\n",
    "lowTmp = []\n",
    "i = 1\n",
    "for row in data:\n",
    "    date = row[0].split(\"-\")\n",
    "    if date[1] != \"07\" or date[2] != \"02\":\n",
    "        continue\n",
    "    else:\n",
    "        myBirth[i] = row\n",
    "        i += 1\n",
    "\n",
    "year = list(myBirth.keys())\n",
    "\n",
    "for value in myBirth.values():\n",
    "    lowTmp.append(float(value[3]))\n",
    "    highTmp.append(float(value[4]))\n",
    "\n",
    "plt.plot(year,highTmp,'r')\n",
    "plt.plot(year,lowTmp, 'b')\n",
    "plt.xlabel(\"age\")\n",
    "plt.xticks(np.arange(1,10,1))\n",
    "plt.yticks(np.arange(16, 35, 1))\n",
    "plt.ylabel(\"temp\")\n",
    "plt.show()"
   ]
  },
  {
   "cell_type": "code",
   "execution_count": 29,
   "metadata": {
    "pycharm": {
     "name": "#%%\n"
    }
   },
   "outputs": [
    {
     "data": {
      "image/png": "[encoded data removed]",
      "text/plain": [
       "<Figure size 432x288 with 1 Axes>"
      ]
     },
     "metadata": {
      "needs_background": "light"
     },
     "output_type": "display_data"
    }
   ],
   "source": [
    "import csv\n",
    "from matplotlib import pyplot as plt\n",
    "\n",
    "file = open(\"./temperature.csv\", \"r\", encoding=\"cp949\")\n",
    "data = csv.reader(file)\n",
    "augTmp = []\n",
    "janTmp = []\n",
    "\n",
    "next(data)\n",
    "for row in data:\n",
    "    date = row[0].split(\"-\")\n",
    "    if date[1] == \"08\":\n",
    "        augTmp.append(float(row[4]))\n",
    "    elif date[1] == \"01\":\n",
    "        janTmp.append(float(row[4]))\n",
    "    else:\n",
    "        continue\n",
    "\n",
    "plt.hist(augTmp, bins = 25, color = 'r')\n",
    "plt.hist(janTmp, bins = 25, color = 'b')\n",
    "plt.show()\n"
   ]
  },
  {
   "cell_type": "code",
   "execution_count": null,
   "metadata": {},
   "outputs": [],
   "source": []
  }
 ],
 "metadata": {
  "kernelspec": {
   "display_name": "Python 3",
   "language": "python",
   "name": "python3"
  },
  "language_info": {
   "codemirror_mode": {
    "name": "ipython",
    "version": 3
   },
   "file_extension": ".py",
   "mimetype": "text/x-python",
   "name": "python",
   "nbconvert_exporter": "python",
   "pygments_lexer": "ipython3",
   "version": "3.8.5"
  }
 },
 "nbformat": 4,
 "nbformat_minor": 1
}
