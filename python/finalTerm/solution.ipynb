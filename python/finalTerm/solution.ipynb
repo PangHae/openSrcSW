{
 "cells": [
  {
   "cell_type": "code",
   "execution_count": 49,
   "metadata": {
    "collapsed": true
   },
   "outputs": [
    {
     "name": "stdout",
     "output_type": "stream",
     "text": [
      "(1, 2)\n",
      "(3, 4)\n"
     ]
    },
    {
     "ename": "AttributeError",
     "evalue": "'NoneType' object has no attribute 'show'",
     "output_type": "error",
     "traceback": [
      "\u001B[1;31m---------------------------------------------------------------------------\u001B[0m",
      "\u001B[1;31mAttributeError\u001B[0m                            Traceback (most recent call last)",
      "\u001B[1;32m<ipython-input-49-a5dae86cea7d>\u001B[0m in \u001B[0;36m<module>\u001B[1;34m\u001B[0m\n\u001B[0;32m     27\u001B[0m \u001B[1;33m\u001B[0m\u001B[0m\n\u001B[0;32m     28\u001B[0m \u001B[0ma\u001B[0m \u001B[1;33m=\u001B[0m \u001B[0ma\u001B[0m \u001B[1;33m+\u001B[0m \u001B[0mb\u001B[0m\u001B[1;33m\u001B[0m\u001B[1;33m\u001B[0m\u001B[0m\n\u001B[1;32m---> 29\u001B[1;33m \u001B[0ma\u001B[0m\u001B[1;33m.\u001B[0m\u001B[0mshow\u001B[0m\u001B[1;33m(\u001B[0m\u001B[1;33m)\u001B[0m\u001B[1;33m\u001B[0m\u001B[1;33m\u001B[0m\u001B[0m\n\u001B[0m",
      "\u001B[1;31mAttributeError\u001B[0m: 'NoneType' object has no attribute 'show'"
     ]
    }
   ],
   "source": [
    "# class add:\n",
    "#     a = 0\n",
    "#     def __init__(self,a):\n",
    "#         self.a = a\n",
    "#     def __add__(self, other):\n",
    "#         self.a = self.a + other\n",
    "\n",
    "\n",
    "class Point:\n",
    "    a = 0\n",
    "    b = 0\n",
    "\n",
    "    def __init__(self, a,b):\n",
    "        self.a = a\n",
    "        self.b = b\n",
    "    def __add__(self, other):\n",
    "        self.a = self.a + other.a\n",
    "        self.b = self.b + other.b\n",
    "    def show(self):\n",
    "        print((self.a,self.b))\n",
    "\n",
    "a = Point(1, 2)\n",
    "a.show()\n",
    "\n",
    "b = Point(3, 4)\n",
    "b.show()\n",
    "\n",
    "a = a + b\n",
    "a.show()"
   ]
  },
  {
   "cell_type": "code",
   "execution_count": 53,
   "outputs": [
    {
     "name": "stdout",
     "output_type": "stream",
     "text": [
      "Max Week : 2021-05-22 ~ 2021-05-29\n"
     ]
    }
   ],
   "source": [
    "import csv\n",
    "import numpy as np\n",
    "import matplotlib.pyplot as plt\n",
    "\n",
    "file = open(\"seoul.csv\", \"r\", encoding=\"cp949\")\n",
    "\n",
    "data = csv.reader(file)\n",
    "header = next(data)\n",
    "count = 0\n",
    "diffPerDay = 0\n",
    "beforeResult = 0\n",
    "maxWeek = \"\"\n",
    "weekStart = \"\"\n",
    "for row in data:\n",
    "    count += 1\n",
    "    if count == 1:\n",
    "        weekStart = row[0]\n",
    "    diffPerDay = diffPerDay + float(row[4]) - float(row[3])\n",
    "    if count == 7:\n",
    "        count = 0\n",
    "        if beforeResult > diffPerDay:\n",
    "            diffPerDay = 0\n",
    "        else:\n",
    "            diffPerDay = 0\n",
    "            maxWeek = weekStart\n",
    "            beforeResult = diffPerDay\n",
    "\n",
    "maxLastWeek = maxWeek.split(\"-\")\n",
    "maxNewLastWeek = maxLastWeek[0] + \"-\" + maxLastWeek[1] + \"-\" + str((int(maxLastWeek[2])+7))\n",
    "print(\"Max Week : {0} ~ {1}\".format(maxWeek, maxNewLastWeek))"
   ],
   "metadata": {
    "collapsed": false,
    "pycharm": {
     "name": "#%%\n"
    }
   }
  },
  {
   "cell_type": "code",
   "execution_count": 28,
   "outputs": [
    {
     "name": "stdout",
     "output_type": "stream",
     "text": [
      "[array([ 2.,  2., nan,  0., inf,  0.]), array([ 3.,  3.,  0., nan,  3., nan]), array([ 2.,  2., nan,  0., inf, nan])]\n"
     ]
    },
    {
     "name": "stderr",
     "output_type": "stream",
     "text": [
      "<ipython-input-28-fef46ebda235>:7: RuntimeWarning: divide by zero encountered in true_divide\n",
      "  result.append(np.dot(i.T,Query)/abs(i.T) * abs(Query))\n",
      "<ipython-input-28-fef46ebda235>:7: RuntimeWarning: invalid value encountered in multiply\n",
      "  result.append(np.dot(i.T,Query)/abs(i.T) * abs(Query))\n"
     ]
    }
   ],
   "source": [
    "import numpy as np\n",
    "\n",
    "Docs = np.array([[1,1,0,1,0,1], [1,1,1,0,1,0], [1,1,0,1,0,0]])\n",
    "Query = np.array([1,1,0,0,1,0])\n",
    "result = list()\n",
    "for i in Docs:\n",
    "\n",
    "\n",
    "print(result)\n",
    "\n",
    "\n"
   ],
   "metadata": {
    "collapsed": false,
    "pycharm": {
     "name": "#%%\n"
    }
   }
  },
  {
   "cell_type": "code",
   "execution_count": null,
   "outputs": [],
   "source": [],
   "metadata": {
    "collapsed": false,
    "pycharm": {
     "name": "#%%\n"
    }
   }
  }
 ],
 "metadata": {
  "kernelspec": {
   "display_name": "Python 3",
   "language": "python",
   "name": "python3"
  },
  "language_info": {
   "codemirror_mode": {
    "name": "ipython",
    "version": 2
   },
   "file_extension": ".py",
   "mimetype": "text/x-python",
   "name": "python",
   "nbconvert_exporter": "python",
   "pygments_lexer": "ipython2",
   "version": "2.7.6"
  }
 },
 "nbformat": 4,
 "nbformat_minor": 0
}