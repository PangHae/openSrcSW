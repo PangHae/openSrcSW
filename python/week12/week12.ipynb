{
 "cells": [
  {
   "cell_type": "code",
   "execution_count": 19,
   "id": "ae55aee8",
   "metadata": {},
   "outputs": [
    {
     "name": "stdout",
     "output_type": "stream",
     "text": [
      "일교차가 가장 큰 날\n",
      "2020-05-06\n",
      "최저기온이 가장 낮은 날\n",
      "2020-12-30\n",
      "최고기온이 가장 높은 날\n",
      "2020-06-22\n"
     ]
    }
   ],
   "source": [
    "import csv\n",
    "\n",
    "file = open(\"./seoul.csv\", \"r\", encoding = \"cp949\")\n",
    "data = csv.reader(file)\n",
    "\n",
    "next(data)\n",
    "initData = next(data)\n",
    "highest = float(initData[4])\n",
    "lowest = float(initData[3])\n",
    "dailyTempRange = highest - lowest\n",
    "highestDate = initData[0]\n",
    "lowestDate = initData[0]\n",
    "biggestRange = initData[0]\n",
    "\n",
    "for row in data:\n",
    "    tempRange = float(row[4])-float(row[3])\n",
    "    # print(tempRange)\n",
    "    if highest < float(row[4]):\n",
    "        highest = float(row[4])\n",
    "        highestDate = row[0]\n",
    "    if lowest > float(row[3]):\n",
    "        lowest = float(row[3])\n",
    "        lowestDate = row[0]\n",
    "    if dailyTempRange < tempRange:\n",
    "        dailyTempRange = tempRange\n",
    "        biggestRange = row[0]\n",
    "\n",
    "file.close()\n",
    "\n",
    "print(\"일교차가 가장 큰 날\")\n",
    "print(biggestRange)\n",
    "print(\"최저기온이 가장 낮은 날\")\n",
    "print(lowestDate)\n",
    "print(\"최고기온이 가장 높은 날\")\n",
    "print(highestDate)"
   ]
  },
  {
   "cell_type": "code",
   "execution_count": 38,
   "id": "b37b2bad",
   "metadata": {
    "scrolled": true
   },
   "outputs": [
    {
     "name": "stdout",
     "output_type": "stream",
     "text": [
      "이용객이 가장 많은 역 순위\n",
      "1. 2호선 홍대입구(70411)\n",
      "2. 2호선 잠실(송파구청)(68757)\n",
      "3. 3호선 고속터미널(66433)\n",
      "이용객이 가장 적은 역 순위\n",
      "1. 3호선 충무로(1)\n",
      "2. 경의선 임진강(10)\n",
      "3. 중앙선 지평(57)\n"
     ]
    }
   ],
   "source": [
    "import csv\n",
    "\n",
    "file = open(\"./metro.csv\", \"r\", encoding = \"cp949\")\n",
    "data = csv.reader(file)\n",
    "next(data)\n",
    "user = {}\n",
    "\n",
    "for row in data:\n",
    "    if row[0] != \"20210516\":\n",
    "        break\n",
    "        \n",
    "    user[row[1] +\" \"+row[2]] = int(row[3]) + int(row[4])\n",
    "\n",
    "result = sorted(user.items(), key=(lambda x:x[1]), reverse = True)\n",
    "\n",
    "print(\"이용객이 가장 많은 역 순위\")\n",
    "print(\"1. {0}({1})\".format(result[0][0], result[0][1]))\n",
    "print(\"2. {0}({1})\".format(result[1][0], result[1][1]))\n",
    "print(\"3. {0}({1})\".format(result[2][0], result[2][1]))\n",
    "print(\"이용객이 가장 적은 역 순위\")\n",
    "print(\"1. {0}({1})\".format(result[-1][0], result[-1][1]))\n",
    "print(\"2. {0}({1})\".format(result[-2][0], result[-2][1]))\n",
    "print(\"3. {0}({1})\".format(result[-3][0], result[-3][1]))\n"
   ]
  }
 ],
 "metadata": {
  "kernelspec": {
   "display_name": "Python 3",
   "language": "python",
   "name": "python3"
  },
  "language_info": {
   "codemirror_mode": {
    "name": "ipython",
    "version": 3
   },
   "file_extension": ".py",
   "mimetype": "text/x-python",
   "name": "python",
   "nbconvert_exporter": "python",
   "pygments_lexer": "ipython3",
   "version": "3.8.5"
  }
 },
 "nbformat": 4,
 "nbformat_minor": 5
}
