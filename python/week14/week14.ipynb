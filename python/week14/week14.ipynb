{
 "cells": [
  {
   "cell_type": "code",
   "execution_count": null,
   "metadata": {
    "collapsed": true
   },
   "outputs": [],
   "source": [
    "import matplotlib.pyplot as plt\n",
    "import csv\n",
    "\n",
    "file = open(\"./data.csv\", \"r\", encoding=\"cp949\")\n",
    "data = csv.reader(file)\n",
    "next(data)\n",
    "baseData = {}\n",
    "age = 0\n",
    "for row in data:\n",
    "   if \"광진구\" in row[0]:\n",
    "       for cell in row:\n",
    "\n",
    "\n",
    "# plt.style.use(\"ggplot\")\n",
    "# plt.plot(result)\n",
    "# plt.show()\n"
   ]
  }
 ],
 "metadata": {
  "kernelspec": {
   "display_name": "Python 3",
   "language": "python",
   "name": "python3"
  },
  "language_info": {
   "codemirror_mode": {
    "name": "ipython",
    "version": 2
   },
   "file_extension": ".py",
   "mimetype": "text/x-python",
   "name": "python",
   "nbconvert_exporter": "python",
   "pygments_lexer": "ipython2",
   "version": "2.7.6"
  }
 },
 "nbformat": 4,
 "nbformat_minor": 0
}