{
 "cells": [
  {
   "cell_type": "code",
   "execution_count": 3,
   "id": "e0b00336",
   "metadata": {},
   "outputs": [
    {
     "name": "stdout",
     "output_type": "stream",
     "text": [
      "3\n",
      "계산결과 : 45\n"
     ]
    }
   ],
   "source": [
    "x = int(input())\n",
    "\n",
    "y = 3* x**2 + 5 * x + 3\n",
    "\n",
    "print(\"계산결과 :\", y)"
   ]
  },
  {
   "cell_type": "code",
   "execution_count": 4,
   "id": "77cde402",
   "metadata": {},
   "outputs": [
    {
     "name": "stdout",
     "output_type": "stream",
     "text": [
      "4\n",
      "원의 둘레는  25.12 입니다.\n",
      "원의 넓이는  50.24 입니다.\n"
     ]
    }
   ],
   "source": [
    "r = int(input())\n",
    "pi = 3.14\n",
    "\n",
    "bound = 2 * r * pi\n",
    "area = r**2 * pi\n",
    "\n",
    "print(\"원의 둘레는 \" ,bound,\"입니다.\")\n",
    "print(\"원의 넓이는 \", area, \"입니다.\")"
   ]
  },
  {
   "cell_type": "code",
   "execution_count": null,
   "id": "98a5c173",
   "metadata": {},
   "outputs": [],
   "source": []
  }
 ],
 "metadata": {
  "kernelspec": {
   "display_name": "Python 3",
   "language": "python",
   "name": "python3"
  },
  "language_info": {
   "codemirror_mode": {
    "name": "ipython",
    "version": 3
   },
   "file_extension": ".py",
   "mimetype": "text/x-python",
   "name": "python",
   "nbconvert_exporter": "python",
   "pygments_lexer": "ipython3",
   "version": "3.8.5"
  }
 },
 "nbformat": 4,
 "nbformat_minor": 5
}
