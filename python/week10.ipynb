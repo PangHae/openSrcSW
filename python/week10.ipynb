{
 "cells": [
  {
   "cell_type": "code",
   "execution_count": 29,
   "id": "de5b2ebf",
   "metadata": {},
   "outputs": [
    {
     "name": "stdout",
     "output_type": "stream",
     "text": [
      "abc def\n",
      "password : efg bcd\n",
      "data : abc def\n"
     ]
    }
   ],
   "source": [
    "data = input()\n",
    "\n",
    "def encoding(data): \n",
    "    password = \"\"\n",
    "    for i in range(len(data)):\n",
    "        if data[i] != \" \":\n",
    "            x = chr(ord(data[i]) + 1)\n",
    "        else:\n",
    "            x = \" \"\n",
    "        password += x\n",
    "\n",
    "    front = password[0:3]\n",
    "    back = password[4:7]\n",
    "    password = back + \" \" + front\n",
    "        \n",
    "    return password\n",
    "\n",
    "def decoding(password):\n",
    "    data =\"\"\n",
    "    front = password[0:3]\n",
    "    back = password[4:7]\n",
    "    password = back + \" \" + front\n",
    "    \n",
    "    for i in range(len(password)):\n",
    "        if password[i] != \" \":\n",
    "            x = chr(ord(password[i]) - 1)\n",
    "        else:\n",
    "            x = \" \"\n",
    "        data += x\n",
    "        \n",
    "    return data\n",
    "\n",
    "password = encoding(data)\n",
    "newData = decoding(password)\n",
    "print(\"password :\",password)\n",
    "print(\"data :\",newData)"
   ]
  },
  {
   "cell_type": "code",
   "execution_count": 45,
   "id": "7781e023",
   "metadata": {},
   "outputs": [
    {
     "name": "stdout",
     "output_type": "stream",
     "text": [
      "a 1\n",
      "b 2\n",
      "c 3\n",
      "d 4\n",
      "e 5\n",
      "f 6\n",
      "g 7\n",
      "h 8\n",
      "i 9\n",
      "j 10\n",
      "{'a': '1', 'b': '2', 'c': '3', 'd': '4', 'e': '5', 'f': '6', 'g': '7', 'h': '8', 'i': '9', 'j': '10'}\n",
      "=======전화 번호부 검색=======\n",
      "1. 이름으로 검색\n",
      "2. 전화번호로 검색\n",
      "3. 종료\n",
      "==============================\n",
      "메뉴 번호를 입력해주세요 :1\n",
      "이름을 입력해주세요:e\n",
      "검색결과 : 5\n",
      "=======전화 번호부 검색=======\n",
      "1. 이름으로 검색\n",
      "2. 전화번호로 검색\n",
      "3. 종료\n",
      "==============================\n",
      "메뉴 번호를 입력해주세요 :2\n",
      "전화번호를 입력해주세요:9\n",
      "검색결과 : i\n",
      "=======전화 번호부 검색=======\n",
      "1. 이름으로 검색\n",
      "2. 전화번호로 검색\n",
      "3. 종료\n",
      "==============================\n",
      "메뉴 번호를 입력해주세요 :3\n",
      "프로그램이 종료되었습니다.\n"
     ]
    }
   ],
   "source": [
    "phoneDic = {}\n",
    "for i in range(10):\n",
    "    name, phoneNum = input().split(\" \")\n",
    "    phoneDic[name] = phoneNum\n",
    "\n",
    "def search():\n",
    "    print(\"=======전화 번호부 검색=======\")\n",
    "    print(\"1. 이름으로 검색\")\n",
    "    print(\"2. 전화번호로 검색\")\n",
    "    print(\"3. 종료\")\n",
    "    print(\"==============================\")\n",
    "    \n",
    "    menuNum = input(\"메뉴 번호를 입력해주세요 :\")\n",
    "    if menuNum == \"1\":\n",
    "        sName = input(\"이름을 입력해주세요:\")\n",
    "        for name,phoneNum in phoneDic.items():\n",
    "            if name == sName:\n",
    "                return phoneNum\n",
    "    elif menuNum == \"2\":\n",
    "        sPhoneNum = input(\"전화번호를 입력해주세요:\")\n",
    "        for name,phoneNum in phoneDic.items():\n",
    "            if phoneNum == sPhoneNum:\n",
    "                return name\n",
    "    elif menuNum == \"3\":\n",
    "        return 0\n",
    "    else:\n",
    "        print(\"잘못된 입력입니다.\")\n",
    "    \n",
    "print(phoneDic)\n",
    "while(1): \n",
    "    result = search()\n",
    "    if result == 0:\n",
    "        print(\"프로그램이 종료되었습니다.\")\n",
    "        break;\n",
    "    else:\n",
    "        print(\"검색결과 :\",result)"
   ]
  },
  {
   "cell_type": "code",
   "execution_count": null,
   "id": "c407263d",
   "metadata": {},
   "outputs": [],
   "source": []
  }
 ],
 "metadata": {
  "kernelspec": {
   "display_name": "Python 3",
   "language": "python",
   "name": "python3"
  },
  "language_info": {
   "codemirror_mode": {
    "name": "ipython",
    "version": 3
   },
   "file_extension": ".py",
   "mimetype": "text/x-python",
   "name": "python",
   "nbconvert_exporter": "python",
   "pygments_lexer": "ipython3",
   "version": "3.8.5"
  }
 },
 "nbformat": 4,
 "nbformat_minor": 5
}
